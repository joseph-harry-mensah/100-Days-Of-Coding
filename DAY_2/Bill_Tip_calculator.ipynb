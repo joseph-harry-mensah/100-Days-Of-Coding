{
 "cells": [
  {
   "cell_type": "code",
   "execution_count": 1,
   "id": "e08027ae-5909-490b-b6d6-6cb6e2406006",
   "metadata": {},
   "outputs": [
    {
     "name": "stdin",
     "output_type": "stream",
     "text": [
      "What is your name emmanuel\n"
     ]
    },
    {
     "name": "stdout",
     "output_type": "stream",
     "text": [
      "Welcome to Tip Calculator, emmanuel\n"
     ]
    },
    {
     "name": "stdin",
     "output_type": "stream",
     "text": [
      "What was the total bill? 20\n",
      "How many people to split the bill? 5\n",
      "How much tip (percentage) would you like to give: 10, 12 or 15? 5\n"
     ]
    },
    {
     "name": "stdout",
     "output_type": "stream",
     "text": [
      "Each person should pay: $4.2\n"
     ]
    }
   ],
   "source": [
    "# Tip and Bill calculator\n",
    "\n",
    "print(\"Welcome to Tip Calculator, \" + input(\"What is your name\"))\n",
    "\n",
    "\n",
    "# I did conversion of the inputs to a float dtype\n",
    "total_bill = float(input(\"What was the total bill?\"))\n",
    "#new_total_bill = float(total_bill)\n",
    "\n",
    "n_people = int(input(\"How many people to split the bill?\"))\n",
    "#new_n_people = float(n_people)\n",
    "\n",
    "\n",
    "tip_percent = float(input(\"How much tip (percentage) would you like to give: 10, 12 or 15?\"))\n",
    "#new_tip_percent = float(tip_percent)\n",
    "\n",
    "\n",
    "# I used this analogy: Total bill + chosen percentage of the bill and divided by the number of people paying together\n",
    "#bill_split = ((total_bill + ((tip_percent/100)* total_bill)) / n_people)\n",
    "bill_split= round(((total_bill + ((tip_percent/100)* total_bill)) / n_people),2)\n",
    "\n",
    "#Rounded bill_split to 2 decimal places and onverted it to a string dtype before printing\n",
    "#print(\" Every person will pay $\" + str(round(bill_split, 2)))\n",
    "\n",
    "\n",
    "#Better approach using format (F-string) \n",
    "message = f\"Each person should pay: ${bill_split}\"\n",
    "print(message)\n"
   ]
  }
 ],
 "metadata": {
  "kernelspec": {
   "display_name": "Python 3 (ipykernel)",
   "language": "python",
   "name": "python3"
  },
  "language_info": {
   "codemirror_mode": {
    "name": "ipython",
    "version": 3
   },
   "file_extension": ".py",
   "mimetype": "text/x-python",
   "name": "python",
   "nbconvert_exporter": "python",
   "pygments_lexer": "ipython3",
   "version": "3.9.12"
  },
  "widgets": {
   "application/vnd.jupyter.widget-state+json": {
    "state": {},
    "version_major": 2,
    "version_minor": 0
   }
  }
 },
 "nbformat": 4,
 "nbformat_minor": 5
}
