{
 "cells": [
  {
   "cell_type": "code",
   "execution_count": null,
   "id": "aac492d4-2791-4132-9967-bbc84065f728",
   "metadata": {},
   "outputs": [],
   "source": [
    "#This program asks the user the which size of pizza they want\n",
    "#Ask if they want pepperoni or extra cheese\n",
    "#Based on their input, we determine their final bill\n",
    "\n",
    "\n",
    "\n",
    "size = input(\"Welcome to McHarry's Pizza Place.\\n What size of pizza do you want (Small | Medium | Large)\")\n",
    "\n",
    "\n",
    "if size == \"small\" or size == \"Small\" or size == \"SMALL\":\n",
    "    bill = 15\n",
    "    print(\"Small-size Pizza is $15\")\n",
    "\n",
    "    \n",
    "elif size == \"medium\" or size ==\"Medium\" or size ==\"MEDIUM\":\n",
    "    bill = 20\n",
    "    print(\"Medium-size Pizza is $20\")\n",
    "    \n",
    "    \n",
    "else:\n",
    "    bill = 25\n",
    "    print(\"Large-size Pizza is $25\")\n",
    "\n",
    "    \n",
    "    \n",
    "    \n",
    " # Additional things they can order for the pizza\n",
    "\n",
    "extra_cheese = 1    \n",
    "pepperoni_ssize = 2\n",
    "pepperoni_other_size = 3  \n",
    "\n",
    "\n",
    "\n",
    "want_pepperoni = input(\"Do you want pepperoni? ( Yes | No)\")\n",
    "\n",
    "\n",
    "if want_pepperoni == \"Yes\" or want_pepperoni == \"YES\" or want_pepperoni ==\"yes\":\n",
    "    \n",
    "    if size ==\"small\":\n",
    "            bill += pepperoni_ssize\n",
    "            \n",
    "    else:\n",
    "            bill += pepperoni_other_size\n",
    "                   \n",
    "else:\n",
    "    bill = bill\n",
    "    \n",
    "        \n",
    "    \n",
    "    \n",
    "add_cheese = input(\"Do you want extra cheese\")\n",
    "if add_cheese == \"yes\" or add_cheese  ==\"Yes\" or add_cheese ==\"YES\":\n",
    "        bill += extra_cheese\n",
    "        message = f\"Final Bill is : ${bill}\"\n",
    "        print(message)\n",
    "                \n",
    "                \n",
    "else:\n",
    "        message = f\"Final Bill is : ${bill}\"\n",
    "        print(message)\n",
    "                \n",
    "        \n",
    "        \n",
    "        "
   ]
  },
  {
   "cell_type": "code",
   "execution_count": null,
   "id": "dac88ed9-d2fc-4997-94c4-e1381a9df49b",
   "metadata": {},
   "outputs": [],
   "source": []
  }
 ],
 "metadata": {
  "kernelspec": {
   "display_name": "Python 3 (ipykernel)",
   "language": "python",
   "name": "python3"
  },
  "language_info": {
   "codemirror_mode": {
    "name": "ipython",
    "version": 3
   },
   "file_extension": ".py",
   "mimetype": "text/x-python",
   "name": "python",
   "nbconvert_exporter": "python",
   "pygments_lexer": "ipython3",
   "version": "3.9.12"
  },
  "widgets": {
   "application/vnd.jupyter.widget-state+json": {
    "state": {},
    "version_major": 2,
    "version_minor": 0
   }
  }
 },
 "nbformat": 4,
 "nbformat_minor": 5
}
