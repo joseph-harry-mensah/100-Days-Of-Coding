{
 "cells": [
  {
   "cell_type": "code",
   "execution_count": 45,
   "id": "fe2220f4-f4de-41e8-9ec3-65e7a89fb541",
   "metadata": {},
   "outputs": [
    {
     "name": "stdout",
     "output_type": "stream",
     "text": [
      "Welcome to Love Calculator! \n",
      " We test compatibility between couples using tried-and-tested Scientific Method by BuzzFeed\n"
     ]
    },
    {
     "name": "stdin",
     "output_type": "stream",
     "text": [
      "What is your name\n",
      " Joseph\n",
      "What is the name of your partner\n",
      " Esmeralda\n"
     ]
    },
    {
     "name": "stdout",
     "output_type": "stream",
     "text": [
      "T occurs 0 times \n",
      " R occurs 1 times \n",
      " U occurs 0 times \n",
      " E occurs 3 times\n",
      "Total =  4\n",
      "L occurs 1 times \n",
      " O occurs 1 times \n",
      " V occurs 0 times \n",
      " E occurs 3 times\n",
      "Total =  5\n",
      "Your score is Your Score is 45, you are alright together\n"
     ]
    }
   ],
   "source": [
    "#Love calculator program the names of both couples as input\n",
    "#Checks the number of times the letters in the word TRUE occurs\n",
    "#Then checks the number for number of times the letters in the word LOVE occurs.\n",
    "#Then combine these numbers to make a 2 digit number\n",
    "\n",
    "\n",
    "\n",
    "\n",
    "print(\"Welcome to Love Calculator! \\n We test compatibility between couples using tried-and-tested Scientific Method by BuzzFeed\")\n",
    "\n",
    "name1 = input(\"What is your name\\n\")\n",
    "name2 = input(\"What is the name of your partner\\n\")\n",
    "\n",
    "\n",
    "\n",
    "#Need to change the names to lower case before counting to ensure accuracy\n",
    "\n",
    "combined_names = name1 + name2\n",
    "lowercase_names = combined_names.lower()\n",
    "\n",
    "t = lowercase_names.count(\"t\")\n",
    "r = lowercase_names.count(\"r\")\n",
    "u = lowercase_names.count(\"u\")\n",
    "e = lowercase_names.count(\"e\")\n",
    "\n",
    "\n",
    "l = lowercase_names.count(\"l\")\n",
    "o = lowercase_names.count(\"o\")\n",
    "v = lowercase_names.count(\"v\")\n",
    "e = lowercase_names.count(\"e\")\n",
    "\n",
    "\n",
    "\n",
    "total_lowercase_count = t + r + u + e\n",
    "total_love_count = l + o + v + e\n",
    "message1 = f\"T occurs {t} times \\n R occurs {r} times \\n U occurs {u} times \\n E occurs {e} times\"\n",
    "message2 = f\"L occurs {l} times \\n O occurs {o} times \\n V occurs {v} times \\n E occurs {e} times\"\n",
    "total1 = f\"Total =  {total_lowercase_count}\"\n",
    "total2 = f\"Total =  {total_love_count}\"\n",
    "\n",
    "\n",
    "\n",
    "#printing LOVE atotal_lowercase_count, same for TRUE\n",
    "print(message1)\n",
    "print(total1)\n",
    "\n",
    "print(message2)\n",
    "print(total2)\n",
    "\n",
    "\n",
    "#concatinating the total of TRUE and LOVE as str dtype and print it\n",
    "truelove_score = str(total_lowercase_count) + str(total_love_count)\n",
    "truelove_score = int(truelove_score)\n",
    "\n",
    "\n",
    "\n",
    "#condition and conclusion\n",
    "\n",
    "if truelove_score < 10 or truelove_score >90:\n",
    "    prompt1 = f\"Your score is {love_score}, and you go together like coke and mentos\"\n",
    "    print(prompt1)\n",
    "    \n",
    "elif truelove_score >40 and truelove_score <50:\n",
    "    prompt2 = f\"Your score is {love_score}, you are alright together\"\n",
    "    print(prompt2)\n",
    "    \n",
    "else:\n",
    "    prompt3 = f\"Your score is {love_score}\"\n",
    "    print(prompt3)\n"
   ]
  },
  {
   "cell_type": "code",
   "execution_count": null,
   "id": "136150fc-4db6-4534-8f77-46ebab8c218b",
   "metadata": {},
   "outputs": [],
   "source": []
  }
 ],
 "metadata": {
  "kernelspec": {
   "display_name": "Python 3 (ipykernel)",
   "language": "python",
   "name": "python3"
  },
  "language_info": {
   "codemirror_mode": {
    "name": "ipython",
    "version": 3
   },
   "file_extension": ".py",
   "mimetype": "text/x-python",
   "name": "python",
   "nbconvert_exporter": "python",
   "pygments_lexer": "ipython3",
   "version": "3.9.12"
  },
  "widgets": {
   "application/vnd.jupyter.widget-state+json": {
    "state": {},
    "version_major": 2,
    "version_minor": 0
   }
  }
 },
 "nbformat": 4,
 "nbformat_minor": 5
}
