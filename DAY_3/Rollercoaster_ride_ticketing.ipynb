{
 "cells": [
  {
   "cell_type": "code",
   "execution_count": 6,
   "id": "8f8bcbf6-55c3-4b6a-8a3a-ef44dfee5e5e",
   "metadata": {},
   "outputs": [
    {
     "name": "stdout",
     "output_type": "stream",
     "text": [
      "Welcome to the Rollercoaster Ride Station\n"
     ]
    },
    {
     "name": "stdin",
     "output_type": "stream",
     "text": [
      "What is your height? 123\n"
     ]
    },
    {
     "name": "stdout",
     "output_type": "stream",
     "text": [
      "Great!! You can ride on the Rollercoaster\n"
     ]
    },
    {
     "name": "stdin",
     "output_type": "stream",
     "text": [
      "What is your age? 55\n"
     ]
    },
    {
     "name": "stdout",
     "output_type": "stream",
     "text": [
      "Everything is going to be okay. Enjoy your ride\n"
     ]
    },
    {
     "name": "stdin",
     "output_type": "stream",
     "text": [
      "Do you want a photo taken? (Yes or No) no\n"
     ]
    },
    {
     "name": "stdout",
     "output_type": "stream",
     "text": [
      "No photo requested\n"
     ]
    }
   ],
   "source": [
    "#Rollercoaster Game\n",
    "#You need to be 120cm in height or better to use the  service\n",
    "#$5 for users <12 yrs, $7 for users <=18yrs, $12 for users > 18yrs\n",
    "#If want to take Photos, you additional $3 dollars to the total bill\n",
    "\n",
    "\n",
    "print(\"Welcome to the Rollercoaster Ride Station\")\n",
    "height = int(input(\"What is your height?\"))\n",
    "\n",
    "\n",
    "    #Using nested if-elif-else statements for the user validation and ticket prices \n",
    "if height >=120:\n",
    "    print(\"Great!! You can ride on the Rollercoaster\")\n",
    "   \n",
    "  \n",
    "    age = int(input(\"What is your age?\"))\n",
    "    \n",
    "    if age <12:\n",
    "        bill = 5\n",
    "        print(\"Child tickets $5\")\n",
    "        \n",
    "    elif age <=18:\n",
    "        bill = 7\n",
    "        print(\"Youth tickets are $7\")\n",
    "        \n",
    "    elif age >= 45 and age <= 55:\n",
    "        print(\"Everything is going to be okay. Enjoy your ride\")\n",
    "    \n",
    "    else:\n",
    "        bill = 12\n",
    "        print(\"Adult tickets are $12\")\n",
    "        \n",
    "        \n",
    "            \n",
    "            \n",
    "    want_photo = input(\"Do you want a photo taken? (Yes or No)\")\n",
    "    photo = 3   # $3\n",
    "\n",
    "    \n",
    "    \n",
    "     #Adding option to opt for photos, price will be added to the total bill\n",
    "        # A photo taken costs $3\n",
    "    if want_photo ==\"Yes\" or want_photo ==\"YES\" or want_photo ==\"yes\":\n",
    "        \n",
    "        \n",
    "        # += photo adds $3 to the bill \n",
    "        if age < 12:\n",
    "            bill += photo\n",
    "            message = f\"The total bill is ${bill}\"\n",
    "            print(message)\n",
    "        \n",
    "        elif age <= 18:\n",
    "            bill += photo\n",
    "            message = f\"The total bill is ${bill}\"\n",
    "            print(message)\n",
    "            \n",
    "        elif age >= 45 and age <= 55:\n",
    "            print(\"You recieve a free photo as well\")\n",
    "        \n",
    "        else:\n",
    "            bill += photo\n",
    "            message = f\"The total bill is ${bill}\"\n",
    "            print(message)\n",
    "            \n",
    "            \n",
    "        \n",
    "    else: \n",
    "        if age < 12:\n",
    "            message = f\"The total bill is ${bill}\"\n",
    "            print(message)\n",
    "        \n",
    "        elif age<=18:\n",
    "            message = f\"The total bill is ${bill}\"\n",
    "            print(message)\n",
    "            \n",
    "        elif age >= 45 and age <= 55:\n",
    "            print(\"No photo requested\")\n",
    "        \n",
    "        else:\n",
    "            message = f\"The total bill is ${bill}\"\n",
    "            print(message)\n",
    "            \n",
    "            \n",
    "            \n",
    "else:\n",
    "    print(\"Sorry, grow taller and try next time. We look forward to seeing you soon\")\n",
    "\n",
    "    \n",
    "\n",
    "        \n",
    "    "
   ]
  },
  {
   "cell_type": "code",
   "execution_count": null,
   "id": "388eb8ec-0105-44fe-8ded-86cb8d28439d",
   "metadata": {},
   "outputs": [],
   "source": []
  }
 ],
 "metadata": {
  "kernelspec": {
   "display_name": "Python 3 (ipykernel)",
   "language": "python",
   "name": "python3"
  },
  "language_info": {
   "codemirror_mode": {
    "name": "ipython",
    "version": 3
   },
   "file_extension": ".py",
   "mimetype": "text/x-python",
   "name": "python",
   "nbconvert_exporter": "python",
   "pygments_lexer": "ipython3",
   "version": "3.9.12"
  },
  "widgets": {
   "application/vnd.jupyter.widget-state+json": {
    "state": {},
    "version_major": 2,
    "version_minor": 0
   }
  }
 },
 "nbformat": 4,
 "nbformat_minor": 5
}
