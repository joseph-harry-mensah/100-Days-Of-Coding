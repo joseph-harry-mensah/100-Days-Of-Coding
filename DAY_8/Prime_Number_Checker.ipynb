{
 "cells": [
  {
   "cell_type": "code",
   "execution_count": 31,
   "id": "9c811aa8-a323-4228-bbdb-cb7221dea4d3",
   "metadata": {},
   "outputs": [
    {
     "name": "stdin",
     "output_type": "stream",
     "text": [
      "Check if number is prime:  20\n"
     ]
    },
    {
     "name": "stdout",
     "output_type": "stream",
     "text": [
      "20 is not a prime number\n"
     ]
    }
   ],
   "source": [
    "#This program checks if a number is a prime number\n",
    "\n",
    "\n",
    "number = int(input(\"Check if number is prime: \"))\n",
    "\n",
    "\n",
    "\n",
    "def check_prime(num):\n",
    "    \n",
    "    is_prime = True\n",
    "    \n",
    "    for i in range(2, number): \n",
    "        if number % i == 0:\n",
    "            is_prime = False\n",
    "            \n",
    "            \n",
    "    if is_prime:\n",
    "        print(f\"{num} is a prime number\")\n",
    "    \n",
    "    \n",
    "    \n",
    "    else:\n",
    "        print(f\"{num} is not a prime number\")\n",
    "            \n",
    "            \n",
    "                                               \n",
    "                  \n",
    "check_prime(num = number)\n"
   ]
  },
  {
   "cell_type": "code",
   "execution_count": null,
   "id": "43535576-f018-4d1c-a656-fc9113f856f9",
   "metadata": {},
   "outputs": [],
   "source": []
  }
 ],
 "metadata": {
  "kernelspec": {
   "display_name": "Python 3 (ipykernel)",
   "language": "python",
   "name": "python3"
  },
  "language_info": {
   "codemirror_mode": {
    "name": "ipython",
    "version": 3
   },
   "file_extension": ".py",
   "mimetype": "text/x-python",
   "name": "python",
   "nbconvert_exporter": "python",
   "pygments_lexer": "ipython3",
   "version": "3.9.12"
  },
  "widgets": {
   "application/vnd.jupyter.widget-state+json": {
    "state": {},
    "version_major": 2,
    "version_minor": 0
   }
  }
 },
 "nbformat": 4,
 "nbformat_minor": 5
}
