{
 "cells": [
  {
   "cell_type": "code",
   "execution_count": 17,
   "id": "86697a77-9e49-4487-9496-3e22b1226621",
   "metadata": {},
   "outputs": [
    {
     "name": "stdout",
     "output_type": "stream",
     "text": [
      "Welcome to Day 1 of the 100 Days of Coding\n",
      "This app generates a name for your city band\n"
     ]
    },
    {
     "name": "stdin",
     "output_type": "stream",
     "text": [
      "What is your name?\n",
      " Mabel\n"
     ]
    },
    {
     "name": "stdout",
     "output_type": "stream",
     "text": [
      "Hello Mabel\n"
     ]
    },
    {
     "name": "stdin",
     "output_type": "stream",
     "text": [
      "What is the name of your city? Assake\n",
      "What is the name of your pet? Mogabe\n"
     ]
    },
    {
     "name": "stdout",
     "output_type": "stream",
     "text": [
      "Waw... Your Band Name is AssakeMogabe\n"
     ]
    }
   ],
   "source": [
    "print(\"Welcome to Day 1 of the 100 Days of Coding\\nThis app generates a name for your city band\")\n",
    "\n",
    "\n",
    " #This is an optimised way of printing and collecting data simultaneously\n",
    "print(\"Hello \" + input(\"What is your name?\\n\"))\n",
    "\n",
    "city = input(\"What is the name of your city?\\n\")\n",
    "pet = input(\"What is the name of your pet?\\n\")\n",
    "\n",
    "print(\"Waw... Your Band Name is \" +city +pet)"
   ]
  },
  {
   "cell_type": "code",
   "execution_count": null,
   "id": "e637bf83-302a-4f9c-bef9-b5d6849f5fca",
   "metadata": {},
   "outputs": [],
   "source": []
  }
 ],
 "metadata": {
  "kernelspec": {
   "display_name": "Python 3 (ipykernel)",
   "language": "python",
   "name": "python3"
  },
  "language_info": {
   "codemirror_mode": {
    "name": "ipython",
    "version": 3
   },
   "file_extension": ".py",
   "mimetype": "text/x-python",
   "name": "python",
   "nbconvert_exporter": "python",
   "pygments_lexer": "ipython3",
   "version": "3.9.12"
  },
  "widgets": {
   "application/vnd.jupyter.widget-state+json": {
    "state": {},
    "version_major": 2,
    "version_minor": 0
   }
  }
 },
 "nbformat": 4,
 "nbformat_minor": 5
}
