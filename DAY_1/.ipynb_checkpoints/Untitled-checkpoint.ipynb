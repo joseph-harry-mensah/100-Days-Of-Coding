{
 "cells": [
  {
   "cell_type": "code",
   "execution_count": 8,
   "id": "cfcffc3d-9c18-43f3-b1ba-396e2fd85791",
   "metadata": {},
   "outputs": [
    {
     "name": "stdout",
     "output_type": "stream",
     "text": [
      "Name or Word Counter\n"
     ]
    },
    {
     "name": "stdin",
     "output_type": "stream",
     "text": [
      "What is your name John\n"
     ]
    },
    {
     "name": "stdout",
     "output_type": "stream",
     "text": [
      "Hello John\n",
      "What do you want to accomplish today\n"
     ]
    },
    {
     "data": {
      "text/plain": [
       "4"
      ]
     },
     "execution_count": 8,
     "metadata": {},
     "output_type": "execute_result"
    }
   ],
   "source": [
    "print(\"Name or Word Counter\")\n",
    "\n",
    "\n",
    "print(\"Hello \"+input(\"What is your name\"))\n",
    "\n",
    "print(\"What do you want to accomplish today\")\n",
    "\n",
    "len(\"John\")"
   ]
  },
  {
   "cell_type": "code",
   "execution_count": null,
   "id": "06f75497-28f4-4894-8101-2fcf2bca7c2d",
   "metadata": {},
   "outputs": [],
   "source": []
  }
 ],
 "metadata": {
  "kernelspec": {
   "display_name": "Python 3 (ipykernel)",
   "language": "python",
   "name": "python3"
  },
  "language_info": {
   "codemirror_mode": {
    "name": "ipython",
    "version": 3
   },
   "file_extension": ".py",
   "mimetype": "text/x-python",
   "name": "python",
   "nbconvert_exporter": "python",
   "pygments_lexer": "ipython3",
   "version": "3.9.12"
  },
  "widgets": {
   "application/vnd.jupyter.widget-state+json": {
    "state": {},
    "version_major": 2,
    "version_minor": 0
   }
  }
 },
 "nbformat": 4,
 "nbformat_minor": 5
}
